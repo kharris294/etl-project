{
 "cells": [
  {
   "cell_type": "code",
   "execution_count": 1,
   "metadata": {},
   "outputs": [],
   "source": [
    "import pandas as pd"
   ]
  },
  {
   "cell_type": "code",
   "execution_count": 2,
   "metadata": {},
   "outputs": [],
   "source": [
    "url = 'https://www.ohio-demographics.com/counties_by_population'"
   ]
  },
  {
   "cell_type": "code",
   "execution_count": 3,
   "metadata": {},
   "outputs": [
    {
     "data": {
      "text/plain": [
       "[                                                 Rank  \\\n",
       " 0                                                   1   \n",
       " 1                                                   2   \n",
       " 2                                                   3   \n",
       " 3                                                   4   \n",
       " 4                                                   5   \n",
       " ..                                                ...   \n",
       " 84                                                 85   \n",
       " 85                                                 86   \n",
       " 86                                                 87   \n",
       " 87                                                 88   \n",
       " 88  United States Census Bureau. B01001 SEX BY AGE...   \n",
       " \n",
       "                                                County  \\\n",
       " 0                                     Franklin County   \n",
       " 1                                     Cuyahoga County   \n",
       " 2                                     Hamilton County   \n",
       " 3                                       Summit County   \n",
       " 4                                   Montgomery County   \n",
       " ..                                                ...   \n",
       " 84                                      Morgan County   \n",
       " 85                                       Noble County   \n",
       " 86                                      Monroe County   \n",
       " 87                                      Vinton County   \n",
       " 88  United States Census Bureau. B01001 SEX BY AGE...   \n",
       " \n",
       "                                            Population  \n",
       " 0                                             1316756  \n",
       " 1                                             1235072  \n",
       " 2                                              817473  \n",
       " 3                                              541013  \n",
       " 4                                              531687  \n",
       " ..                                                ...  \n",
       " 84                                              14508  \n",
       " 85                                              14424  \n",
       " 86                                              13654  \n",
       " 87                                              13085  \n",
       " 88  United States Census Bureau. B01001 SEX BY AGE...  \n",
       " \n",
       " [89 rows x 3 columns]]"
      ]
     },
     "execution_count": 3,
     "metadata": {},
     "output_type": "execute_result"
    }
   ],
   "source": [
    "tables = pd.read_html(url)\n",
    "tables"
   ]
  },
  {
   "cell_type": "code",
   "execution_count": 14,
   "metadata": {},
   "outputs": [
    {
     "data": {
      "text/html": [
       "<div>\n",
       "<style scoped>\n",
       "    .dataframe tbody tr th:only-of-type {\n",
       "        vertical-align: middle;\n",
       "    }\n",
       "\n",
       "    .dataframe tbody tr th {\n",
       "        vertical-align: top;\n",
       "    }\n",
       "\n",
       "    .dataframe thead th {\n",
       "        text-align: right;\n",
       "    }\n",
       "</style>\n",
       "<table border=\"1\" class=\"dataframe\">\n",
       "  <thead>\n",
       "    <tr style=\"text-align: right;\">\n",
       "      <th></th>\n",
       "      <th>Rank</th>\n",
       "      <th>County</th>\n",
       "      <th>Population</th>\n",
       "    </tr>\n",
       "  </thead>\n",
       "  <tbody>\n",
       "    <tr>\n",
       "      <th>0</th>\n",
       "      <td>1</td>\n",
       "      <td>Franklin County</td>\n",
       "      <td>1316756</td>\n",
       "    </tr>\n",
       "    <tr>\n",
       "      <th>1</th>\n",
       "      <td>2</td>\n",
       "      <td>Cuyahoga County</td>\n",
       "      <td>1235072</td>\n",
       "    </tr>\n",
       "    <tr>\n",
       "      <th>2</th>\n",
       "      <td>3</td>\n",
       "      <td>Hamilton County</td>\n",
       "      <td>817473</td>\n",
       "    </tr>\n",
       "    <tr>\n",
       "      <th>3</th>\n",
       "      <td>4</td>\n",
       "      <td>Summit County</td>\n",
       "      <td>541013</td>\n",
       "    </tr>\n",
       "    <tr>\n",
       "      <th>4</th>\n",
       "      <td>5</td>\n",
       "      <td>Montgomery County</td>\n",
       "      <td>531687</td>\n",
       "    </tr>\n",
       "  </tbody>\n",
       "</table>\n",
       "</div>"
      ],
      "text/plain": [
       "  Rank             County Population\n",
       "0    1    Franklin County    1316756\n",
       "1    2    Cuyahoga County    1235072\n",
       "2    3    Hamilton County     817473\n",
       "3    4      Summit County     541013\n",
       "4    5  Montgomery County     531687"
      ]
     },
     "execution_count": 14,
     "metadata": {},
     "output_type": "execute_result"
    }
   ],
   "source": [
    "cnty_df = tables[0]\n",
    "cnty_df.columns = ['Rank', 'County', 'Population']\n",
    "cnty_df.head()"
   ]
  },
  {
   "cell_type": "code",
   "execution_count": 15,
   "metadata": {},
   "outputs": [
    {
     "data": {
      "text/html": [
       "<div>\n",
       "<style scoped>\n",
       "    .dataframe tbody tr th:only-of-type {\n",
       "        vertical-align: middle;\n",
       "    }\n",
       "\n",
       "    .dataframe tbody tr th {\n",
       "        vertical-align: top;\n",
       "    }\n",
       "\n",
       "    .dataframe thead th {\n",
       "        text-align: right;\n",
       "    }\n",
       "</style>\n",
       "<table border=\"1\" class=\"dataframe\">\n",
       "  <thead>\n",
       "    <tr style=\"text-align: right;\">\n",
       "      <th></th>\n",
       "      <th>County</th>\n",
       "      <th>Population</th>\n",
       "    </tr>\n",
       "  </thead>\n",
       "  <tbody>\n",
       "    <tr>\n",
       "      <th>0</th>\n",
       "      <td>Franklin County</td>\n",
       "      <td>1316756</td>\n",
       "    </tr>\n",
       "    <tr>\n",
       "      <th>1</th>\n",
       "      <td>Cuyahoga County</td>\n",
       "      <td>1235072</td>\n",
       "    </tr>\n",
       "    <tr>\n",
       "      <th>2</th>\n",
       "      <td>Hamilton County</td>\n",
       "      <td>817473</td>\n",
       "    </tr>\n",
       "    <tr>\n",
       "      <th>3</th>\n",
       "      <td>Summit County</td>\n",
       "      <td>541013</td>\n",
       "    </tr>\n",
       "    <tr>\n",
       "      <th>4</th>\n",
       "      <td>Montgomery County</td>\n",
       "      <td>531687</td>\n",
       "    </tr>\n",
       "    <tr>\n",
       "      <th>...</th>\n",
       "      <td>...</td>\n",
       "      <td>...</td>\n",
       "    </tr>\n",
       "    <tr>\n",
       "      <th>83</th>\n",
       "      <td>Harrison County</td>\n",
       "      <td>15040</td>\n",
       "    </tr>\n",
       "    <tr>\n",
       "      <th>84</th>\n",
       "      <td>Morgan County</td>\n",
       "      <td>14508</td>\n",
       "    </tr>\n",
       "    <tr>\n",
       "      <th>85</th>\n",
       "      <td>Noble County</td>\n",
       "      <td>14424</td>\n",
       "    </tr>\n",
       "    <tr>\n",
       "      <th>86</th>\n",
       "      <td>Monroe County</td>\n",
       "      <td>13654</td>\n",
       "    </tr>\n",
       "    <tr>\n",
       "      <th>87</th>\n",
       "      <td>Vinton County</td>\n",
       "      <td>13085</td>\n",
       "    </tr>\n",
       "  </tbody>\n",
       "</table>\n",
       "<p>88 rows × 2 columns</p>\n",
       "</div>"
      ],
      "text/plain": [
       "               County Population\n",
       "0     Franklin County    1316756\n",
       "1     Cuyahoga County    1235072\n",
       "2     Hamilton County     817473\n",
       "3       Summit County     541013\n",
       "4   Montgomery County     531687\n",
       "..                ...        ...\n",
       "83    Harrison County      15040\n",
       "84      Morgan County      14508\n",
       "85       Noble County      14424\n",
       "86      Monroe County      13654\n",
       "87      Vinton County      13085\n",
       "\n",
       "[88 rows x 2 columns]"
      ]
     },
     "execution_count": 15,
     "metadata": {},
     "output_type": "execute_result"
    }
   ],
   "source": [
    "cnty_df = cnty_df.drop(['Rank'], axis=1)\n",
    "cnty_df = cnty_df.drop(cnty_df.index[88])\n",
    "cnty_df"
   ]
  },
  {
   "cell_type": "code",
   "execution_count": 16,
   "metadata": {},
   "outputs": [],
   "source": [
    "output_data_file = \"resources/cnty_pop.csv\""
   ]
  },
  {
   "cell_type": "code",
   "execution_count": 17,
   "metadata": {},
   "outputs": [],
   "source": [
    "cnty_df.to_csv(output_data_file, index=False, header=True)"
   ]
  },
  {
   "cell_type": "code",
   "execution_count": null,
   "metadata": {},
   "outputs": [],
   "source": []
  }
 ],
 "metadata": {
  "kernelspec": {
   "display_name": "Python 3",
   "language": "python",
   "name": "python3"
  },
  "language_info": {
   "codemirror_mode": {
    "name": "ipython",
    "version": 3
   },
   "file_extension": ".py",
   "mimetype": "text/x-python",
   "name": "python",
   "nbconvert_exporter": "python",
   "pygments_lexer": "ipython3",
   "version": "3.7.6"
  }
 },
 "nbformat": 4,
 "nbformat_minor": 4
}
