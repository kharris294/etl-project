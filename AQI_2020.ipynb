{
 "cells": [
  {
   "cell_type": "code",
   "execution_count": 1,
   "metadata": {},
   "outputs": [],
   "source": [
    "import pandas as pd\n",
    "import datetime\n",
    "import glob\n",
    "import sqlite3\n",
    "from sqlalchemy.orm import Session\n",
    "from sqlalchemy import create_engine, func, inspect, distinct"
   ]
  },
  {
   "cell_type": "code",
   "execution_count": 2,
   "metadata": {},
   "outputs": [
    {
     "name": "stdout",
     "output_type": "stream",
     "text": [
      "['../Desktop/AQI_project/2020_aqi/ad_viz_plotval_data (2).csv', '../Desktop/AQI_project/2020_aqi/ad_viz_plotval_data (3).csv', '../Desktop/AQI_project/2020_aqi/ad_viz_plotval_data (4).csv', '../Desktop/AQI_project/2020_aqi/ad_viz_plotval_data (5).csv', '../Desktop/AQI_project/2020_aqi/ad_viz_plotval_data.csv', '../Desktop/AQI_project/2020_aqi/ad_viz_plotval_data (6).csv', '../Desktop/AQI_project/2020_aqi/ad_viz_plotval_data (1).csv']\n"
     ]
    }
   ],
   "source": [
    "all_csv = glob.glob('../Desktop/AQI_project/2020_aqi/*.csv')\n",
    "\n",
    "print(all_csv)\n",
    "    "
   ]
  },
  {
   "cell_type": "code",
   "execution_count": 3,
   "metadata": {},
   "outputs": [],
   "source": [
    "appended_data = []\n",
    "\n",
    "for i in all_csv:\n",
    "    \n",
    "    csv_path = i\n",
    "    csv = pd.read_csv(csv_path)\n",
    "    appended_data.append(csv)\n",
    "    \n",
    "apd = pd.concat(appended_data)\n",
    "\n"
   ]
  },
  {
   "cell_type": "code",
   "execution_count": 4,
   "metadata": {},
   "outputs": [
    {
     "data": {
      "text/html": [
       "<div>\n",
       "<style scoped>\n",
       "    .dataframe tbody tr th:only-of-type {\n",
       "        vertical-align: middle;\n",
       "    }\n",
       "\n",
       "    .dataframe tbody tr th {\n",
       "        vertical-align: top;\n",
       "    }\n",
       "\n",
       "    .dataframe thead th {\n",
       "        text-align: right;\n",
       "    }\n",
       "</style>\n",
       "<table border=\"1\" class=\"dataframe\">\n",
       "  <thead>\n",
       "    <tr style=\"text-align: right;\">\n",
       "      <th></th>\n",
       "      <th>Date</th>\n",
       "      <th>Source</th>\n",
       "      <th>Site ID</th>\n",
       "      <th>POC</th>\n",
       "      <th>Daily Mean Pb Concentration</th>\n",
       "      <th>UNITS</th>\n",
       "      <th>DAILY_AQI_VALUE</th>\n",
       "      <th>Site Name</th>\n",
       "      <th>DAILY_OBS_COUNT</th>\n",
       "      <th>PERCENT_COMPLETE</th>\n",
       "      <th>...</th>\n",
       "      <th>COUNTY_CODE</th>\n",
       "      <th>COUNTY</th>\n",
       "      <th>SITE_LATITUDE</th>\n",
       "      <th>SITE_LONGITUDE</th>\n",
       "      <th>Daily Max 1-hour NO2 Concentration</th>\n",
       "      <th>Daily Mean PM10 Concentration</th>\n",
       "      <th>Daily Mean PM2.5 Concentration</th>\n",
       "      <th>Daily Max 8-hour Ozone Concentration</th>\n",
       "      <th>Daily Max 1-hour SO2 Concentration</th>\n",
       "      <th>Daily Max 8-hour CO Concentration</th>\n",
       "    </tr>\n",
       "  </thead>\n",
       "  <tbody>\n",
       "    <tr>\n",
       "      <th>0</th>\n",
       "      <td>01/04/2020</td>\n",
       "      <td>AQS</td>\n",
       "      <td>390290019</td>\n",
       "      <td>1</td>\n",
       "      <td>0.002</td>\n",
       "      <td>ug/m3 LC</td>\n",
       "      <td>.</td>\n",
       "      <td>Port Authority</td>\n",
       "      <td>1</td>\n",
       "      <td>100.0</td>\n",
       "      <td>...</td>\n",
       "      <td>29</td>\n",
       "      <td>Columbiana</td>\n",
       "      <td>40.631545</td>\n",
       "      <td>-80.547181</td>\n",
       "      <td>NaN</td>\n",
       "      <td>NaN</td>\n",
       "      <td>NaN</td>\n",
       "      <td>NaN</td>\n",
       "      <td>NaN</td>\n",
       "      <td>NaN</td>\n",
       "    </tr>\n",
       "    <tr>\n",
       "      <th>1</th>\n",
       "      <td>01/10/2020</td>\n",
       "      <td>AQS</td>\n",
       "      <td>390290019</td>\n",
       "      <td>1</td>\n",
       "      <td>0.004</td>\n",
       "      <td>ug/m3 LC</td>\n",
       "      <td>.</td>\n",
       "      <td>Port Authority</td>\n",
       "      <td>1</td>\n",
       "      <td>100.0</td>\n",
       "      <td>...</td>\n",
       "      <td>29</td>\n",
       "      <td>Columbiana</td>\n",
       "      <td>40.631545</td>\n",
       "      <td>-80.547181</td>\n",
       "      <td>NaN</td>\n",
       "      <td>NaN</td>\n",
       "      <td>NaN</td>\n",
       "      <td>NaN</td>\n",
       "      <td>NaN</td>\n",
       "      <td>NaN</td>\n",
       "    </tr>\n",
       "    <tr>\n",
       "      <th>2</th>\n",
       "      <td>01/16/2020</td>\n",
       "      <td>AQS</td>\n",
       "      <td>390290019</td>\n",
       "      <td>1</td>\n",
       "      <td>0.002</td>\n",
       "      <td>ug/m3 LC</td>\n",
       "      <td>.</td>\n",
       "      <td>Port Authority</td>\n",
       "      <td>1</td>\n",
       "      <td>100.0</td>\n",
       "      <td>...</td>\n",
       "      <td>29</td>\n",
       "      <td>Columbiana</td>\n",
       "      <td>40.631545</td>\n",
       "      <td>-80.547181</td>\n",
       "      <td>NaN</td>\n",
       "      <td>NaN</td>\n",
       "      <td>NaN</td>\n",
       "      <td>NaN</td>\n",
       "      <td>NaN</td>\n",
       "      <td>NaN</td>\n",
       "    </tr>\n",
       "    <tr>\n",
       "      <th>3</th>\n",
       "      <td>01/22/2020</td>\n",
       "      <td>AQS</td>\n",
       "      <td>390290019</td>\n",
       "      <td>1</td>\n",
       "      <td>0.007</td>\n",
       "      <td>ug/m3 LC</td>\n",
       "      <td>.</td>\n",
       "      <td>Port Authority</td>\n",
       "      <td>1</td>\n",
       "      <td>100.0</td>\n",
       "      <td>...</td>\n",
       "      <td>29</td>\n",
       "      <td>Columbiana</td>\n",
       "      <td>40.631545</td>\n",
       "      <td>-80.547181</td>\n",
       "      <td>NaN</td>\n",
       "      <td>NaN</td>\n",
       "      <td>NaN</td>\n",
       "      <td>NaN</td>\n",
       "      <td>NaN</td>\n",
       "      <td>NaN</td>\n",
       "    </tr>\n",
       "    <tr>\n",
       "      <th>4</th>\n",
       "      <td>01/28/2020</td>\n",
       "      <td>AQS</td>\n",
       "      <td>390290019</td>\n",
       "      <td>1</td>\n",
       "      <td>0.002</td>\n",
       "      <td>ug/m3 LC</td>\n",
       "      <td>.</td>\n",
       "      <td>Port Authority</td>\n",
       "      <td>1</td>\n",
       "      <td>100.0</td>\n",
       "      <td>...</td>\n",
       "      <td>29</td>\n",
       "      <td>Columbiana</td>\n",
       "      <td>40.631545</td>\n",
       "      <td>-80.547181</td>\n",
       "      <td>NaN</td>\n",
       "      <td>NaN</td>\n",
       "      <td>NaN</td>\n",
       "      <td>NaN</td>\n",
       "      <td>NaN</td>\n",
       "      <td>NaN</td>\n",
       "    </tr>\n",
       "  </tbody>\n",
       "</table>\n",
       "<p>5 rows × 26 columns</p>\n",
       "</div>"
      ],
      "text/plain": [
       "         Date Source    Site ID  POC  Daily Mean Pb Concentration     UNITS  \\\n",
       "0  01/04/2020    AQS  390290019    1                        0.002  ug/m3 LC   \n",
       "1  01/10/2020    AQS  390290019    1                        0.004  ug/m3 LC   \n",
       "2  01/16/2020    AQS  390290019    1                        0.002  ug/m3 LC   \n",
       "3  01/22/2020    AQS  390290019    1                        0.007  ug/m3 LC   \n",
       "4  01/28/2020    AQS  390290019    1                        0.002  ug/m3 LC   \n",
       "\n",
       "  DAILY_AQI_VALUE       Site Name  DAILY_OBS_COUNT  PERCENT_COMPLETE  ...  \\\n",
       "0               .  Port Authority                1             100.0  ...   \n",
       "1               .  Port Authority                1             100.0  ...   \n",
       "2               .  Port Authority                1             100.0  ...   \n",
       "3               .  Port Authority                1             100.0  ...   \n",
       "4               .  Port Authority                1             100.0  ...   \n",
       "\n",
       "   COUNTY_CODE      COUNTY  SITE_LATITUDE SITE_LONGITUDE  \\\n",
       "0           29  Columbiana      40.631545     -80.547181   \n",
       "1           29  Columbiana      40.631545     -80.547181   \n",
       "2           29  Columbiana      40.631545     -80.547181   \n",
       "3           29  Columbiana      40.631545     -80.547181   \n",
       "4           29  Columbiana      40.631545     -80.547181   \n",
       "\n",
       "   Daily Max 1-hour NO2 Concentration Daily Mean PM10 Concentration  \\\n",
       "0                                 NaN                           NaN   \n",
       "1                                 NaN                           NaN   \n",
       "2                                 NaN                           NaN   \n",
       "3                                 NaN                           NaN   \n",
       "4                                 NaN                           NaN   \n",
       "\n",
       "   Daily Mean PM2.5 Concentration Daily Max 8-hour Ozone Concentration  \\\n",
       "0                             NaN                                  NaN   \n",
       "1                             NaN                                  NaN   \n",
       "2                             NaN                                  NaN   \n",
       "3                             NaN                                  NaN   \n",
       "4                             NaN                                  NaN   \n",
       "\n",
       "   Daily Max 1-hour SO2 Concentration  Daily Max 8-hour CO Concentration  \n",
       "0                                 NaN                                NaN  \n",
       "1                                 NaN                                NaN  \n",
       "2                                 NaN                                NaN  \n",
       "3                                 NaN                                NaN  \n",
       "4                                 NaN                                NaN  \n",
       "\n",
       "[5 rows x 26 columns]"
      ]
     },
     "execution_count": 4,
     "metadata": {},
     "output_type": "execute_result"
    }
   ],
   "source": [
    "air_2020 = pd.DataFrame(apd)\n",
    "\n",
    "air_2020.head()"
   ]
  },
  {
   "cell_type": "code",
   "execution_count": 5,
   "metadata": {},
   "outputs": [
    {
     "data": {
      "text/plain": [
       "Date                                     object\n",
       "Source                                   object\n",
       "Site ID                                   int64\n",
       "POC                                       int64\n",
       "Daily Mean Pb Concentration             float64\n",
       "UNITS                                    object\n",
       "DAILY_AQI_VALUE                          object\n",
       "Site Name                                object\n",
       "DAILY_OBS_COUNT                           int64\n",
       "PERCENT_COMPLETE                        float64\n",
       "AQS_PARAMETER_CODE                        int64\n",
       "AQS_PARAMETER_DESC                       object\n",
       "CBSA_CODE                               float64\n",
       "CBSA_NAME                                object\n",
       "STATE_CODE                                int64\n",
       "STATE                                    object\n",
       "COUNTY_CODE                               int64\n",
       "COUNTY                                   object\n",
       "SITE_LATITUDE                           float64\n",
       "SITE_LONGITUDE                          float64\n",
       "Daily Max 1-hour NO2 Concentration      float64\n",
       "Daily Mean PM10 Concentration           float64\n",
       "Daily Mean PM2.5 Concentration          float64\n",
       "Daily Max 8-hour Ozone Concentration    float64\n",
       "Daily Max 1-hour SO2 Concentration      float64\n",
       "Daily Max 8-hour CO Concentration       float64\n",
       "dtype: object"
      ]
     },
     "execution_count": 5,
     "metadata": {},
     "output_type": "execute_result"
    }
   ],
   "source": [
    "air_2020.dtypes"
   ]
  },
  {
   "cell_type": "code",
   "execution_count": 6,
   "metadata": {},
   "outputs": [
    {
     "data": {
      "text/plain": [
       "['Date',\n",
       " 'Source',\n",
       " 'Site ID',\n",
       " 'POC',\n",
       " 'Daily Mean Pb Concentration',\n",
       " 'UNITS',\n",
       " 'DAILY_AQI_VALUE',\n",
       " 'Site Name',\n",
       " 'DAILY_OBS_COUNT',\n",
       " 'PERCENT_COMPLETE',\n",
       " 'AQS_PARAMETER_CODE',\n",
       " 'AQS_PARAMETER_DESC',\n",
       " 'CBSA_CODE',\n",
       " 'CBSA_NAME',\n",
       " 'STATE_CODE',\n",
       " 'STATE',\n",
       " 'COUNTY_CODE',\n",
       " 'COUNTY',\n",
       " 'SITE_LATITUDE',\n",
       " 'SITE_LONGITUDE',\n",
       " 'Daily Max 1-hour NO2 Concentration',\n",
       " 'Daily Mean PM10 Concentration',\n",
       " 'Daily Mean PM2.5 Concentration',\n",
       " 'Daily Max 8-hour Ozone Concentration',\n",
       " 'Daily Max 1-hour SO2 Concentration',\n",
       " 'Daily Max 8-hour CO Concentration']"
      ]
     },
     "execution_count": 6,
     "metadata": {},
     "output_type": "execute_result"
    }
   ],
   "source": [
    "cols = air_2020.columns.to_list()\n",
    "\n",
    "cols"
   ]
  },
  {
   "cell_type": "code",
   "execution_count": 7,
   "metadata": {},
   "outputs": [],
   "source": [
    "site_info = air_2020.drop(['Date','POC','AQS_PARAMETER_DESC','DAILY_AQI_VALUE','DAILY_OBS_COUNT','AQS_PARAMETER_CODE','PERCENT_COMPLETE','Daily Mean Pb Concentration','Daily Max 1-hour NO2 Concentration', 'UNITS','Daily Mean PM10 Concentration','Daily Mean PM2.5 Concentration','Daily Max 8-hour Ozone Concentration','Daily Max 1-hour SO2 Concentration', 'Daily Max 8-hour CO Concentration'], axis = 1)\n",
    "\n"
   ]
  },
  {
   "cell_type": "code",
   "execution_count": 8,
   "metadata": {},
   "outputs": [
    {
     "data": {
      "text/html": [
       "<div>\n",
       "<style scoped>\n",
       "    .dataframe tbody tr th:only-of-type {\n",
       "        vertical-align: middle;\n",
       "    }\n",
       "\n",
       "    .dataframe tbody tr th {\n",
       "        vertical-align: top;\n",
       "    }\n",
       "\n",
       "    .dataframe thead th {\n",
       "        text-align: right;\n",
       "    }\n",
       "</style>\n",
       "<table border=\"1\" class=\"dataframe\">\n",
       "  <thead>\n",
       "    <tr style=\"text-align: right;\">\n",
       "      <th></th>\n",
       "      <th>Source</th>\n",
       "      <th>Site ID</th>\n",
       "      <th>Site Name</th>\n",
       "      <th>CBSA_CODE</th>\n",
       "      <th>CBSA_NAME</th>\n",
       "      <th>STATE_CODE</th>\n",
       "      <th>STATE</th>\n",
       "      <th>COUNTY_CODE</th>\n",
       "      <th>COUNTY</th>\n",
       "      <th>SITE_LATITUDE</th>\n",
       "      <th>SITE_LONGITUDE</th>\n",
       "    </tr>\n",
       "  </thead>\n",
       "  <tbody>\n",
       "    <tr>\n",
       "      <th>0</th>\n",
       "      <td>AQS</td>\n",
       "      <td>390290019</td>\n",
       "      <td>Port Authority</td>\n",
       "      <td>41400.0</td>\n",
       "      <td>Salem, OH</td>\n",
       "      <td>39</td>\n",
       "      <td>Ohio</td>\n",
       "      <td>29</td>\n",
       "      <td>Columbiana</td>\n",
       "      <td>40.631545</td>\n",
       "      <td>-80.547181</td>\n",
       "    </tr>\n",
       "    <tr>\n",
       "      <th>5</th>\n",
       "      <td>AQS</td>\n",
       "      <td>390290020</td>\n",
       "      <td>East Liverpool WTP</td>\n",
       "      <td>41400.0</td>\n",
       "      <td>Salem, OH</td>\n",
       "      <td>39</td>\n",
       "      <td>Ohio</td>\n",
       "      <td>29</td>\n",
       "      <td>Columbiana</td>\n",
       "      <td>40.639509</td>\n",
       "      <td>-80.523951</td>\n",
       "    </tr>\n",
       "    <tr>\n",
       "      <th>16</th>\n",
       "      <td>AQS</td>\n",
       "      <td>390290023</td>\n",
       "      <td>Eastside Elem</td>\n",
       "      <td>41400.0</td>\n",
       "      <td>Salem, OH</td>\n",
       "      <td>39</td>\n",
       "      <td>Ohio</td>\n",
       "      <td>29</td>\n",
       "      <td>Columbiana</td>\n",
       "      <td>40.634688</td>\n",
       "      <td>-80.545695</td>\n",
       "    </tr>\n",
       "    <tr>\n",
       "      <th>26</th>\n",
       "      <td>AQS</td>\n",
       "      <td>390350038</td>\n",
       "      <td>St Theodosius</td>\n",
       "      <td>17460.0</td>\n",
       "      <td>Cleveland-Elyria, OH</td>\n",
       "      <td>39</td>\n",
       "      <td>Ohio</td>\n",
       "      <td>35</td>\n",
       "      <td>Cuyahoga</td>\n",
       "      <td>41.477011</td>\n",
       "      <td>-81.682383</td>\n",
       "    </tr>\n",
       "    <tr>\n",
       "      <th>31</th>\n",
       "      <td>AQS</td>\n",
       "      <td>390350049</td>\n",
       "      <td>Ferro</td>\n",
       "      <td>17460.0</td>\n",
       "      <td>Cleveland-Elyria, OH</td>\n",
       "      <td>39</td>\n",
       "      <td>Ohio</td>\n",
       "      <td>35</td>\n",
       "      <td>Cuyahoga</td>\n",
       "      <td>41.446342</td>\n",
       "      <td>-81.650700</td>\n",
       "    </tr>\n",
       "  </tbody>\n",
       "</table>\n",
       "</div>"
      ],
      "text/plain": [
       "   Source    Site ID           Site Name  CBSA_CODE             CBSA_NAME  \\\n",
       "0     AQS  390290019      Port Authority    41400.0             Salem, OH   \n",
       "5     AQS  390290020  East Liverpool WTP    41400.0             Salem, OH   \n",
       "16    AQS  390290023       Eastside Elem    41400.0             Salem, OH   \n",
       "26    AQS  390350038       St Theodosius    17460.0  Cleveland-Elyria, OH   \n",
       "31    AQS  390350049               Ferro    17460.0  Cleveland-Elyria, OH   \n",
       "\n",
       "    STATE_CODE STATE  COUNTY_CODE      COUNTY  SITE_LATITUDE  SITE_LONGITUDE  \n",
       "0           39  Ohio           29  Columbiana      40.631545      -80.547181  \n",
       "5           39  Ohio           29  Columbiana      40.639509      -80.523951  \n",
       "16          39  Ohio           29  Columbiana      40.634688      -80.545695  \n",
       "26          39  Ohio           35    Cuyahoga      41.477011      -81.682383  \n",
       "31          39  Ohio           35    Cuyahoga      41.446342      -81.650700  "
      ]
     },
     "execution_count": 8,
     "metadata": {},
     "output_type": "execute_result"
    }
   ],
   "source": [
    "site_info = site_info.drop_duplicates()\n",
    "\n",
    "site_info.head()"
   ]
  },
  {
   "cell_type": "code",
   "execution_count": 9,
   "metadata": {},
   "outputs": [],
   "source": [
    "lead_2020 = air_2020.drop(['Site Name','Source','CBSA_NAME','CBSA_CODE','STATE_CODE','STATE', 'COUNTY_CODE', 'COUNTY', 'SITE_LATITUDE','SITE_LONGITUDE','Daily Max 1-hour NO2 Concentration', 'UNITS','Daily Mean PM10 Concentration','Daily Mean PM2.5 Concentration','Daily Max 8-hour Ozone Concentration','Daily Max 1-hour SO2 Concentration', 'Daily Max 8-hour CO Concentration'], axis =1)\n",
    "                          \n",
    "                          "
   ]
  },
  {
   "cell_type": "code",
   "execution_count": 10,
   "metadata": {},
   "outputs": [],
   "source": [
    "no2_2020 = air_2020.drop(['Site Name','Source','CBSA_NAME','CBSA_CODE','STATE_CODE','STATE', 'COUNTY_CODE', 'COUNTY', 'SITE_LATITUDE','SITE_LONGITUDE','Daily Mean Pb Concentration', 'UNITS','Daily Mean PM10 Concentration','Daily Mean PM2.5 Concentration','Daily Max 8-hour Ozone Concentration','Daily Max 1-hour SO2 Concentration', 'Daily Max 8-hour CO Concentration'], axis = 1)\n"
   ]
  },
  {
   "cell_type": "code",
   "execution_count": 11,
   "metadata": {},
   "outputs": [],
   "source": [
    "pm10_2020 = air_2020.drop(['Site Name','Source','CBSA_NAME','CBSA_CODE','STATE_CODE','STATE', 'COUNTY_CODE', 'COUNTY', 'SITE_LATITUDE','SITE_LONGITUDE','Daily Mean Pb Concentration','Daily Max 1-hour NO2 Concentration' ,'Daily Mean PM2.5 Concentration','Daily Max 8-hour Ozone Concentration','Daily Max 1-hour SO2 Concentration', 'Daily Max 8-hour CO Concentration'], axis = 1)\n"
   ]
  },
  {
   "cell_type": "code",
   "execution_count": 12,
   "metadata": {},
   "outputs": [],
   "source": [
    "pm2_2020 = air_2020.drop(['Site Name','Source','CBSA_NAME','CBSA_CODE','STATE_CODE','STATE', 'COUNTY_CODE', 'COUNTY', 'SITE_LATITUDE','SITE_LONGITUDE','Daily Mean Pb Concentration','Daily Max 1-hour NO2 Concentration' ,'Daily Mean PM10 Concentration','Daily Max 8-hour Ozone Concentration','Daily Max 1-hour SO2 Concentration', 'Daily Max 8-hour CO Concentration'], axis = 1)\n"
   ]
  },
  {
   "cell_type": "code",
   "execution_count": 13,
   "metadata": {},
   "outputs": [],
   "source": [
    "ozone_2020 = air_2020.drop(['Site Name','Source','CBSA_NAME','CBSA_CODE','STATE_CODE','STATE', 'COUNTY_CODE', 'COUNTY', 'SITE_LATITUDE','SITE_LONGITUDE','Daily Mean Pb Concentration','Daily Max 1-hour NO2 Concentration' ,'Daily Mean PM2.5 Concentration','Daily Mean PM10 Concentration','Daily Max 1-hour SO2 Concentration', 'Daily Max 8-hour CO Concentration'], axis = 1)\n"
   ]
  },
  {
   "cell_type": "code",
   "execution_count": 14,
   "metadata": {},
   "outputs": [],
   "source": [
    "so2_2020 = air_2020.drop(['Site Name','Source','CBSA_NAME','CBSA_CODE','STATE_CODE','STATE', 'COUNTY_CODE', 'COUNTY', 'SITE_LATITUDE','SITE_LONGITUDE','Daily Mean Pb Concentration','Daily Max 1-hour NO2 Concentration' ,'Daily Mean PM2.5 Concentration','Daily Max 8-hour Ozone Concentration','Daily Mean PM10 Concentration', 'Daily Max 8-hour CO Concentration'], axis = 1)\n"
   ]
  },
  {
   "cell_type": "code",
   "execution_count": 15,
   "metadata": {},
   "outputs": [],
   "source": [
    "co_2020 = air_2020.drop(['Site Name','Source','CBSA_NAME','CBSA_CODE','STATE_CODE','STATE', 'COUNTY_CODE', 'COUNTY', 'SITE_LATITUDE','SITE_LONGITUDE','Daily Mean Pb Concentration','Daily Max 1-hour NO2 Concentration' ,'Daily Mean PM2.5 Concentration','Daily Max 8-hour Ozone Concentration','Daily Max 1-hour SO2 Concentration', 'Daily Mean PM10 Concentration'], axis = 1)\n"
   ]
  },
  {
   "cell_type": "code",
   "execution_count": 16,
   "metadata": {},
   "outputs": [
    {
     "data": {
      "text/html": [
       "<div>\n",
       "<style scoped>\n",
       "    .dataframe tbody tr th:only-of-type {\n",
       "        vertical-align: middle;\n",
       "    }\n",
       "\n",
       "    .dataframe tbody tr th {\n",
       "        vertical-align: top;\n",
       "    }\n",
       "\n",
       "    .dataframe thead th {\n",
       "        text-align: right;\n",
       "    }\n",
       "</style>\n",
       "<table border=\"1\" class=\"dataframe\">\n",
       "  <thead>\n",
       "    <tr style=\"text-align: right;\">\n",
       "      <th></th>\n",
       "      <th>Date</th>\n",
       "      <th>Site ID</th>\n",
       "      <th>POC</th>\n",
       "      <th>Daily Mean Pb Concentration</th>\n",
       "      <th>DAILY_AQI_VALUE</th>\n",
       "      <th>DAILY_OBS_COUNT</th>\n",
       "      <th>PERCENT_COMPLETE</th>\n",
       "      <th>AQS_PARAMETER_CODE</th>\n",
       "      <th>AQS_PARAMETER_DESC</th>\n",
       "    </tr>\n",
       "  </thead>\n",
       "  <tbody>\n",
       "    <tr>\n",
       "      <th>0</th>\n",
       "      <td>01/04/2020</td>\n",
       "      <td>390290019</td>\n",
       "      <td>1</td>\n",
       "      <td>0.002</td>\n",
       "      <td>.</td>\n",
       "      <td>1</td>\n",
       "      <td>100.0</td>\n",
       "      <td>14129</td>\n",
       "      <td>Lead (TSP) LC</td>\n",
       "    </tr>\n",
       "    <tr>\n",
       "      <th>1</th>\n",
       "      <td>01/10/2020</td>\n",
       "      <td>390290019</td>\n",
       "      <td>1</td>\n",
       "      <td>0.004</td>\n",
       "      <td>.</td>\n",
       "      <td>1</td>\n",
       "      <td>100.0</td>\n",
       "      <td>14129</td>\n",
       "      <td>Lead (TSP) LC</td>\n",
       "    </tr>\n",
       "    <tr>\n",
       "      <th>2</th>\n",
       "      <td>01/16/2020</td>\n",
       "      <td>390290019</td>\n",
       "      <td>1</td>\n",
       "      <td>0.002</td>\n",
       "      <td>.</td>\n",
       "      <td>1</td>\n",
       "      <td>100.0</td>\n",
       "      <td>14129</td>\n",
       "      <td>Lead (TSP) LC</td>\n",
       "    </tr>\n",
       "    <tr>\n",
       "      <th>3</th>\n",
       "      <td>01/22/2020</td>\n",
       "      <td>390290019</td>\n",
       "      <td>1</td>\n",
       "      <td>0.007</td>\n",
       "      <td>.</td>\n",
       "      <td>1</td>\n",
       "      <td>100.0</td>\n",
       "      <td>14129</td>\n",
       "      <td>Lead (TSP) LC</td>\n",
       "    </tr>\n",
       "    <tr>\n",
       "      <th>4</th>\n",
       "      <td>01/28/2020</td>\n",
       "      <td>390290019</td>\n",
       "      <td>1</td>\n",
       "      <td>0.002</td>\n",
       "      <td>.</td>\n",
       "      <td>1</td>\n",
       "      <td>100.0</td>\n",
       "      <td>14129</td>\n",
       "      <td>Lead (TSP) LC</td>\n",
       "    </tr>\n",
       "  </tbody>\n",
       "</table>\n",
       "</div>"
      ],
      "text/plain": [
       "         Date    Site ID  POC  Daily Mean Pb Concentration DAILY_AQI_VALUE  \\\n",
       "0  01/04/2020  390290019    1                        0.002               .   \n",
       "1  01/10/2020  390290019    1                        0.004               .   \n",
       "2  01/16/2020  390290019    1                        0.002               .   \n",
       "3  01/22/2020  390290019    1                        0.007               .   \n",
       "4  01/28/2020  390290019    1                        0.002               .   \n",
       "\n",
       "   DAILY_OBS_COUNT  PERCENT_COMPLETE  AQS_PARAMETER_CODE AQS_PARAMETER_DESC  \n",
       "0                1             100.0               14129      Lead (TSP) LC  \n",
       "1                1             100.0               14129      Lead (TSP) LC  \n",
       "2                1             100.0               14129      Lead (TSP) LC  \n",
       "3                1             100.0               14129      Lead (TSP) LC  \n",
       "4                1             100.0               14129      Lead (TSP) LC  "
      ]
     },
     "execution_count": 16,
     "metadata": {},
     "output_type": "execute_result"
    }
   ],
   "source": [
    "lead_2020.head()"
   ]
  },
  {
   "cell_type": "code",
   "execution_count": 17,
   "metadata": {},
   "outputs": [],
   "source": [
    "conn = sqlite3.connect('AQI_2020_Data')\n",
    "\n",
    "c = conn.cursor()"
   ]
  },
  {
   "cell_type": "code",
   "execution_count": 18,
   "metadata": {},
   "outputs": [],
   "source": [
    "def get_df_name(df):\n",
    "    name =[x for x in globals() if globals()[x] is df][0]\n",
    "    return name"
   ]
  },
  {
   "cell_type": "code",
   "execution_count": 19,
   "metadata": {},
   "outputs": [
    {
     "data": {
      "text/plain": [
       "'lead_2020'"
      ]
     },
     "execution_count": 19,
     "metadata": {},
     "output_type": "execute_result"
    }
   ],
   "source": [
    "get_df_name(lead_2020)"
   ]
  },
  {
   "cell_type": "code",
   "execution_count": 20,
   "metadata": {},
   "outputs": [],
   "source": [
    "def column_names(df):\n",
    "    all_cols = []\n",
    "    col_list = df.columns.to_list()\n",
    "    for i in col_list:\n",
    "        clean_item = str(i).replace(\" \",\"_\")\n",
    "        all_cols.append(clean_item)\n",
    "            \n",
    "    final_list = str(all_cols).replace(\"[\",\"(\").replace(\"'\",\"\").replace(\"]\",\")\").replace('\"','').replace(\"-\",\"\").replace(\".\",\"pnt\")\n",
    "    \n",
    "    \n",
    "    return final_list"
   ]
  },
  {
   "cell_type": "code",
   "execution_count": 21,
   "metadata": {},
   "outputs": [
    {
     "data": {
      "text/plain": [
       "'(Date, Site_ID, POC, Daily_Mean_Pb_Concentration, DAILY_AQI_VALUE, DAILY_OBS_COUNT, PERCENT_COMPLETE, AQS_PARAMETER_CODE, AQS_PARAMETER_DESC)'"
      ]
     },
     "execution_count": 21,
     "metadata": {},
     "output_type": "execute_result"
    }
   ],
   "source": [
    "column_names(lead_2020)"
   ]
  },
  {
   "cell_type": "code",
   "execution_count": 22,
   "metadata": {},
   "outputs": [],
   "source": [
    "def new_table(x):\n",
    "    y = column_names(x)\n",
    "    \n",
    "    q = get_df_name(x)\n",
    "    \n",
    "    f = str(f\"'CREATE TABLE {q} {y}'\")\n",
    "    \n",
    "    g = f.replace(\"'\",\"\")\n",
    "    \n",
    "    c.execute(g)\n",
    "    \n",
    "    conn.commit()\n",
    "    \n",
    "    x.to_sql( q , conn, if_exists='replace', index = False)\n",
    "    "
   ]
  },
  {
   "cell_type": "code",
   "execution_count": 23,
   "metadata": {},
   "outputs": [
    {
     "name": "stdout",
     "output_type": "stream",
     "text": [
      "[]\n"
     ]
    }
   ],
   "source": [
    "def sql_fetch():\n",
    "\n",
    "    cursorObj = conn.cursor()\n",
    "\n",
    "    cursorObj.execute('SELECT name from sqlite_master where type= \"table\"')\n",
    "\n",
    "    print(cursorObj.fetchall())\n",
    "\n",
    "sql_fetch()"
   ]
  },
  {
   "cell_type": "code",
   "execution_count": 27,
   "metadata": {},
   "outputs": [],
   "source": [
    "def add_to_sql(x):\n",
    "    \n",
    "    y = get_df_name(x)\n",
    "    \n",
    "    x.to_sql(y, conn, if_exists= 'replace', index = False)"
   ]
  },
  {
   "cell_type": "code",
   "execution_count": 36,
   "metadata": {},
   "outputs": [],
   "source": [
    "new_table(site_info)\n",
    "add_to_sql(site_info)"
   ]
  },
  {
   "cell_type": "code",
   "execution_count": 28,
   "metadata": {},
   "outputs": [
    {
     "name": "stderr",
     "output_type": "stream",
     "text": [
      "/opt/anaconda3/lib/python3.7/site-packages/pandas/core/generic.py:2663: UserWarning: The spaces in these column names will not be changed. In pandas versions < 0.14, spaces were converted to underscores.\n",
      "  method=method,\n"
     ]
    }
   ],
   "source": [
    "new_table(lead_2020)\n",
    "add_to_sql(lead_2020)"
   ]
  },
  {
   "cell_type": "code",
   "execution_count": 29,
   "metadata": {},
   "outputs": [],
   "source": [
    "new_table(no2_2020)\n",
    "add_to_sql(no2_2020)\n"
   ]
  },
  {
   "cell_type": "code",
   "execution_count": 30,
   "metadata": {},
   "outputs": [],
   "source": [
    "new_table(pm10_2020)\n",
    "add_to_sql(pm10_2020)"
   ]
  },
  {
   "cell_type": "code",
   "execution_count": 31,
   "metadata": {},
   "outputs": [],
   "source": [
    "new_table(pm2_2020)\n",
    "add_to_sql(pm2_2020)"
   ]
  },
  {
   "cell_type": "code",
   "execution_count": 32,
   "metadata": {},
   "outputs": [],
   "source": [
    "new_table(ozone_2020)\n",
    "add_to_sql(ozone_2020)"
   ]
  },
  {
   "cell_type": "code",
   "execution_count": 33,
   "metadata": {},
   "outputs": [],
   "source": [
    "new_table(so2_2020)\n",
    "add_to_sql(so2_2020)"
   ]
  },
  {
   "cell_type": "code",
   "execution_count": 34,
   "metadata": {},
   "outputs": [],
   "source": [
    "new_table(co_2020)\n",
    "add_to_sql(co_2020)"
   ]
  },
  {
   "cell_type": "code",
   "execution_count": 37,
   "metadata": {},
   "outputs": [
    {
     "name": "stdout",
     "output_type": "stream",
     "text": [
      "[('lead_2020',), ('no2_2020',), ('pm10_2020',), ('pm2_2020',), ('ozone_2020',), ('so2_2020',), ('co_2020',), ('site_info',)]\n"
     ]
    }
   ],
   "source": [
    "\n",
    "sql_fetch()"
   ]
  },
  {
   "cell_type": "code",
   "execution_count": null,
   "metadata": {},
   "outputs": [],
   "source": []
  },
  {
   "cell_type": "code",
   "execution_count": null,
   "metadata": {},
   "outputs": [],
   "source": []
  }
 ],
 "metadata": {
  "kernelspec": {
   "display_name": "Python 3",
   "language": "python",
   "name": "python3"
  },
  "language_info": {
   "codemirror_mode": {
    "name": "ipython",
    "version": 3
   },
   "file_extension": ".py",
   "mimetype": "text/x-python",
   "name": "python",
   "nbconvert_exporter": "python",
   "pygments_lexer": "ipython3",
   "version": "3.7.6"
  }
 },
 "nbformat": 4,
 "nbformat_minor": 4
}
